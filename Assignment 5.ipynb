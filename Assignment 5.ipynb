{
 "cells": [
  {
   "cell_type": "code",
   "execution_count": 1,
   "id": "17a8c729",
   "metadata": {},
   "outputs": [],
   "source": [
    "import pandas as pd"
   ]
  },
  {
   "cell_type": "code",
   "execution_count": 2,
   "id": "5d9dc445",
   "metadata": {},
   "outputs": [],
   "source": [
    "# Sample dataset\n",
    "data = {\n",
    "    'Outlook': ['Sunny', 'Sunny', 'Overcast', 'Rainy', 'Rainy', 'Rainy', 'Overcast', 'Sunny', 'Sunny', 'Rainy', 'Sunny', 'Overcast', 'Overcast', 'Rainy'],\n",
    "    'Temperature': ['Hot', 'Hot', 'Mild', 'Cool', 'Cool', 'Cool', 'Mild', 'Mild', 'Cool', 'Mild', 'Mild', 'Mild', 'Hot', 'Mild'],\n",
    "    'Humidity': ['High', 'High', 'High', 'High', 'Normal', 'Normal', 'Normal', 'High', 'Normal', 'Normal', 'Normal', 'High', 'Normal', 'High'],\n",
    "    'Wind': ['Weak', 'Strong', 'Weak', 'Weak', 'Weak', 'Strong', 'Strong', 'Weak', 'Weak', 'Weak', 'Strong', 'Strong', 'Weak', 'Strong'],\n",
    "    'Play': ['No', 'No', 'Yes', 'Yes', 'Yes', 'No', 'Yes', 'No', 'Yes', 'Yes', 'Yes', 'Yes', 'Yes', 'No']\n",
    "}\n",
    "\n",
    "df = pd.DataFrame(data)"
   ]
  },
  {
   "cell_type": "code",
   "execution_count": 3,
   "id": "93750172",
   "metadata": {},
   "outputs": [],
   "source": [
    "\n",
    "def calculate_prior_probabilities(data, target_column):\n",
    "    # Calculate prior probabilities\n",
    "    prior_probabilities = data[target_column].value_counts(normalize=True)\n",
    "    return prior_probabilities"
   ]
  },
  {
   "cell_type": "code",
   "execution_count": 4,
   "id": "ebeccdfa",
   "metadata": {},
   "outputs": [],
   "source": [
    "def calculate_likelihoods(data, feature, target_column):\n",
    "    # Calculate likelihoods\n",
    "    likelihoods = data.groupby([target_column, feature]).size() / data.groupby(target_column).size()\n",
    "    return likelihoods"
   ]
  },
  {
   "cell_type": "code",
   "execution_count": 5,
   "id": "0dcca0ca",
   "metadata": {},
   "outputs": [],
   "source": [
    "def naive_bayes_predictor(data, new_instance, target_column):\n",
    "    # Calculate prior probabilities\n",
    "    prior_probabilities = calculate_prior_probabilities(data, target_column)\n",
    "\n",
    "    # Calculate likelihoods for each feature\n",
    "    likelihoods = {}\n",
    "    for feature in data.columns[:-1]:  # Exclude the target column\n",
    "        likelihoods[feature] = calculate_likelihoods(data, feature, target_column)\n",
    "\n",
    "    # Calculate posterior probabilities\n",
    "    posteriors = {}\n",
    "    for label in prior_probabilities.index:\n",
    "        posterior = prior_probabilities[label]\n",
    "        for feature in new_instance.index:\n",
    "            posterior *= likelihoods[feature].get((label, new_instance[feature]), 0)  # Use Laplace smoothing\n",
    "\n",
    "        posteriors[label] = posterior\n",
    "\n",
    "    # Predict the class with the highest posterior probability\n",
    "    predicted_class = max(posteriors, key=posteriors.get)\n",
    "    return predicted_class"
   ]
  },
  {
   "cell_type": "code",
   "execution_count": 6,
   "id": "8cf0827d",
   "metadata": {},
   "outputs": [],
   "source": [
    "# Test the Naive Bayes model with a new instance\n",
    "new_instance = pd.Series({'Outlook': 'Sunny', 'Temperature': 'Mild', 'Humidity': 'High', 'Wind': 'Weak'})\n",
    "predicted_class = naive_bayes_predictor(df, new_instance, 'Play')"
   ]
  },
  {
   "cell_type": "code",
   "execution_count": 7,
   "id": "247f44b1",
   "metadata": {},
   "outputs": [
    {
     "name": "stdout",
     "output_type": "stream",
     "text": [
      "Predicted class for new instance: No\n"
     ]
    }
   ],
   "source": [
    "print(f\"Predicted class for new instance: {predicted_class}\")"
   ]
  }
 ],
 "metadata": {
  "kernelspec": {
   "display_name": "Python 3 (ipykernel)",
   "language": "python",
   "name": "python3"
  },
  "language_info": {
   "codemirror_mode": {
    "name": "ipython",
    "version": 3
   },
   "file_extension": ".py",
   "mimetype": "text/x-python",
   "name": "python",
   "nbconvert_exporter": "python",
   "pygments_lexer": "ipython3",
   "version": "3.10.9"
  }
 },
 "nbformat": 4,
 "nbformat_minor": 5
}
